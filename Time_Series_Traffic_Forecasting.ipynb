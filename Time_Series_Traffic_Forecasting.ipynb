{
  "nbformat": 4,
  "nbformat_minor": 0,
  "metadata": {
    "colab": {
      "name": "Time-Series Traffic Forecasting",
      "provenance": []
    },
    "kernelspec": {
      "name": "python3",
      "display_name": "Python 3"
    },
    "accelerator": "TPU"
  },
  "cells": [
    {
      "cell_type": "code",
      "metadata": {
        "id": "04i4wZNhPz8D",
        "colab_type": "code",
        "colab": {}
      },
      "source": [
        "# Import the libraries and data.\n",
        "import os\n",
        "import yaml\n",
        "import datetime\n",
        "from datetime import date\n",
        "import numpy as np\n",
        "import pandas as pd\n",
        "from fbprophet import Prophet\n",
        "from fbprophet.plot import plot_plotly\n",
        "import matplotlib.pyplot as plt\n",
        "from matplotlib.pyplot import figure\n",
        "figure(num=None, figsize=(8, 6), dpi=80)\n",
        "\n",
        "#import plotly.offline as py\n",
        "#py.init_notebook_mode()\n",
        "\n",
        "# Did some pre processing of the CSV. \n",
        "# Specficially I:\n",
        "#   - truncated a bunch of notes at the top of the file\n",
        " #   - removed some whitespace at the end of file\n",
        "\n",
        "from google.colab import files\n",
        "uploaded = files.upload()\n",
        "\n",
        "#df = pd.read_csv('moz_2013_2016.csv', sep = ',', thousands=',')\n",
        "#print(df.dtypes)"
      ],
      "execution_count": 0,
      "outputs": []
    },
    {
      "cell_type": "code",
      "metadata": {
        "id": "dd6-Wgf4Vw8T",
        "colab_type": "code",
        "colab": {}
      },
      "source": [
        "import io\n",
        "df = pd.read_csv(io.BytesIO(uploaded['moz-forecasting.csv']))\n",
        "# Dataset is now stored in a Pandas Dataframe\n"
      ],
      "execution_count": 0,
      "outputs": []
    },
    {
      "cell_type": "code",
      "metadata": {
        "id": "mwNnb_zIR_y8",
        "colab_type": "code",
        "colab": {}
      },
      "source": [
        "df.head()"
      ],
      "execution_count": 0,
      "outputs": []
    },
    {
      "cell_type": "code",
      "metadata": {
        "id": "Xhv0Ffc4SLR6",
        "colab_type": "code",
        "colab": {}
      },
      "source": [
        "print(df.dtypes)"
      ],
      "execution_count": 0,
      "outputs": []
    },
    {
      "cell_type": "code",
      "metadata": {
        "id": "4mdhxg9lXi67",
        "colab_type": "code",
        "colab": {}
      },
      "source": [
        "#data cleanup\n",
        "df['ds'] = df['Ds']\n",
        "df['y'] = df['Y']\n",
        "#drop extra columns\n",
        "df = df[['ds', 'y']]"
      ],
      "execution_count": 0,
      "outputs": []
    },
    {
      "cell_type": "code",
      "metadata": {
        "id": "XLb_hjQ4YW1X",
        "colab_type": "code",
        "colab": {}
      },
      "source": [
        "df.head()"
      ],
      "execution_count": 0,
      "outputs": []
    },
    {
      "cell_type": "code",
      "metadata": {
        "id": "F9vjHJR5SRfg",
        "colab_type": "code",
        "colab": {}
      },
      "source": [
        "# Convert to a date time\n",
        "#df['ds'] = df['ds'].astype('datetime64[ns]')\n",
        "df['ds'] = pd.to_datetime(df['ds'])"
      ],
      "execution_count": 0,
      "outputs": []
    },
    {
      "cell_type": "code",
      "metadata": {
        "id": "CsgiXZ65SbL0",
        "colab_type": "code",
        "colab": {}
      },
      "source": [
        "# Make model and fit it\n",
        "m = Prophet()\n",
        "m.fit(df)"
      ],
      "execution_count": 0,
      "outputs": []
    },
    {
      "cell_type": "code",
      "metadata": {
        "id": "h8awuaNSYjv4",
        "colab_type": "code",
        "colab": {}
      },
      "source": [
        "\n",
        "# Make a future data frame\n",
        "future = m.make_future_dataframe(periods=30)\n",
        "future.tail()"
      ],
      "execution_count": 0,
      "outputs": []
    },
    {
      "cell_type": "code",
      "metadata": {
        "id": "WxsmE1kkZnEc",
        "colab_type": "code",
        "colab": {}
      },
      "source": [
        "# Predict the GA data over the future period\n",
        "forecast = m.predict(future)\n",
        "#forecast[['ds', 'yhat', 'yhat_lower', 'yhat_upper']].tail()\n",
        "forecast.tail(30)"
      ],
      "execution_count": 0,
      "outputs": []
    },
    {
      "cell_type": "code",
      "metadata": {
        "id": "yAnkHQQmZqHb",
        "colab_type": "code",
        "colab": {}
      },
      "source": [
        "# plot the forecast\n",
        "fig1 = m.plot(forecast)"
      ],
      "execution_count": 0,
      "outputs": []
    },
    {
      "cell_type": "code",
      "metadata": {
        "id": "FwwQ2z3taADL",
        "colab_type": "code",
        "colab": {}
      },
      "source": [
        "fig2 = m.plot_components(forecast)"
      ],
      "execution_count": 0,
      "outputs": []
    },
    {
      "cell_type": "code",
      "metadata": {
        "id": "6iYqWyTxabZE",
        "colab_type": "code",
        "colab": {}
      },
      "source": [
        "forecast_date = '07-01-2019'\n"
      ],
      "execution_count": 0,
      "outputs": []
    },
    {
      "cell_type": "code",
      "metadata": {
        "id": "mrfKrUomageQ",
        "colab_type": "code",
        "colab": {}
      },
      "source": [
        "# Filter down to only data before the start date\n",
        "mask = (df['ds'] < forecast_date)\n",
        "df2 = df.loc[mask]\n",
        "df2.head()"
      ],
      "execution_count": 0,
      "outputs": []
    },
    {
      "cell_type": "code",
      "metadata": {
        "id": "xstMmo2CbCRT",
        "colab_type": "code",
        "colab": {}
      },
      "source": [
        "df"
      ],
      "execution_count": 0,
      "outputs": []
    },
    {
      "cell_type": "code",
      "metadata": {
        "id": "fOnLw6nVbAHd",
        "colab_type": "code",
        "colab": {}
      },
      "source": [
        "\n",
        "# Make model and fit it\n",
        "m2 = Prophet()\n",
        "m2.fit(df2)\n",
        "\n",
        "# Make a future data frame\n",
        "future = m2.make_future_dataframe(periods=90)\n",
        "future.tail()\n",
        "\n",
        "# Predict the GA data over the future period\n",
        "forecast = m2.predict(future)\n",
        "forecast.tail()\n",
        "#forecast[['ds', 'yhat', 'yhat_lower', 'yhat_upper']].tail()"
      ],
      "execution_count": 0,
      "outputs": []
    },
    {
      "cell_type": "code",
      "metadata": {
        "id": "GJK74Jckc1Y4",
        "colab_type": "code",
        "colab": {}
      },
      "source": [
        "# plot the forecast\n",
        "fig2 = m2.plot(forecast)"
      ],
      "execution_count": 0,
      "outputs": []
    },
    {
      "cell_type": "code",
      "metadata": {
        "id": "Y3fnTdf7c89J",
        "colab_type": "code",
        "colab": {}
      },
      "source": [
        "# Merge actuals with forecast\n",
        "forecast_plot = forecast[['ds', 'yhat']]\n",
        "df_inner = pd.merge(forecast_plot, df, on='ds', how='inner')\n",
        "df_inner.tail()"
      ],
      "execution_count": 0,
      "outputs": []
    },
    {
      "cell_type": "code",
      "metadata": {
        "id": "_V2ECfowdHFn",
        "colab_type": "code",
        "colab": {}
      },
      "source": [
        "\n",
        "mask = (df_inner['ds'] > forecast_date)\n",
        "df2_plot = df_inner.loc[mask]\n",
        "df2_plot.tail()"
      ],
      "execution_count": 0,
      "outputs": []
    },
    {
      "cell_type": "code",
      "metadata": {
        "id": "oCnRU9t9dBUg",
        "colab_type": "code",
        "colab": {}
      },
      "source": [
        "# Plot actuals vs forecast\n",
        "plt.figure(figsize=(16, 9))\n",
        "plt.title(label='Forecast vs. Actual Performance \\n' + 'forecast date = ' + forecast_date)\n",
        "plt.plot('ds', 'y', data=df2_plot, color='black')\n",
        "plt.plot('ds', 'yhat', data=df2_plot, color ='skyblue', linestyle='dashed')\n",
        "plt.show()"
      ],
      "execution_count": 0,
      "outputs": []
    }
  ]
}